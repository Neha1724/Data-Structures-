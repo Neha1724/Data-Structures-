{
  "nbformat": 4,
  "nbformat_minor": 0,
  "metadata": {
    "colab": {
      "provenance": [],
      "authorship_tag": "ABX9TyOgaoP6r4Ol5hWiyrj0qW7f",
      "include_colab_link": true
    },
    "kernelspec": {
      "name": "python3",
      "display_name": "Python 3"
    },
    "language_info": {
      "name": "python"
    }
  },
  "cells": [
    {
      "cell_type": "markdown",
      "metadata": {
        "id": "view-in-github",
        "colab_type": "text"
      },
      "source": [
        "<a href=\"https://colab.research.google.com/github/Neha1724/Mathematical-Modelling/blob/main/Differentiation.ipynb\" target=\"_parent\"><img src=\"https://colab.research.google.com/assets/colab-badge.svg\" alt=\"Open In Colab\"/></a>"
      ]
    },
    {
      "cell_type": "code",
      "execution_count": 1,
      "metadata": {
        "colab": {
          "base_uri": "https://localhost:8080/"
        },
        "id": "rdiS4JHFXp1z",
        "outputId": "547a496f-dfb8-420a-893b-dd5fe0d1a06a"
      },
      "outputs": [
        {
          "output_type": "stream",
          "name": "stdout",
          "text": [
            "Differentiation of sin(x): cos(x)\n"
          ]
        }
      ],
      "source": [
        "import sympy as sp\n",
        "\n",
        "# Define the variable and function\n",
        "x = sp.symbols('x')\n",
        "f = sp.sin(x)\n",
        "\n",
        "# Differentiate the function\n",
        "f_prime = sp.diff(f, x)\n",
        "\n",
        "# Print the result\n",
        "print(\"Differentiation of sin(x):\", f_prime)\n"
      ]
    },
    {
      "cell_type": "code",
      "source": [
        "import sympy as sp\n",
        "\n",
        "# Define the variables and function\n",
        "x, y = sp.symbols('x y')\n",
        "f = y * sp.sin(x) + y**2\n",
        "\n",
        "# Calculate partial derivatives\n",
        "f_x = sp.diff(f, x)\n",
        "f_y = sp.diff(f, y)\n",
        "\n",
        "# Print the results\n",
        "print(\"Partial derivative of f(x, y) with respect to x:\", f_x)\n",
        "print(\"Partial derivative of f(x, y) with respect to y:\", f_y)\n"
      ],
      "metadata": {
        "colab": {
          "base_uri": "https://localhost:8080/"
        },
        "id": "R7vChZbLbPMl",
        "outputId": "b8341362-cac6-42e6-9106-059a375eba29"
      },
      "execution_count": 2,
      "outputs": [
        {
          "output_type": "stream",
          "name": "stdout",
          "text": [
            "Partial derivative of f(x, y) with respect to x: y*cos(x)\n",
            "Partial derivative of f(x, y) with respect to y: 2*y + sin(x)\n"
          ]
        }
      ]
    }
  ]
}